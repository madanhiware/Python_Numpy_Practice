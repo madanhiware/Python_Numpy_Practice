{
 "cells": [
  {
   "cell_type": "code",
   "execution_count": 1,
   "metadata": {},
   "outputs": [
    {
     "name": "stdout",
     "output_type": "stream",
     "text": [
      "<class 'numpy.ndarray'>\n",
      "[  3  33 333]\n",
      "1\n",
      "3\n",
      "int32\n",
      "4\n"
     ]
    }
   ],
   "source": [
    "import numpy as np\n",
    "v_array = np.array([3,33,333])\n",
    "print(type(v_array)) ##show pckg called through numpy\n",
    "print(v_array) ##Show value\n",
    "print(v_array.ndim) ##number of dimensional\n",
    "print(v_array.size) #to number of element\n",
    "print(v_array.dtype) ##datatype of array\n",
    "print(v_array.itemsize) ##size accupy\n"
   ]
  },
  {
   "cell_type": "code",
   "execution_count": 5,
   "metadata": {},
   "outputs": [
    {
     "name": "stdout",
     "output_type": "stream",
     "text": [
      "2\n",
      "6\n"
     ]
    }
   ],
   "source": [
    "import numpy as np\n",
    "v_array = np.array([(1,2,3),(4,5,6)])\n",
    "\n",
    "print(v_array.ndim) ##number of dimensional\n",
    "print(v_array.size) #to number of element\n"
   ]
  },
  {
   "cell_type": "code",
   "execution_count": 16,
   "metadata": {},
   "outputs": [
    {
     "name": "stdout",
     "output_type": "stream",
     "text": [
      "int32\n",
      "<U1\n"
     ]
    }
   ],
   "source": [
    "##Datatype of array\n",
    "import numpy as np\n",
    "v_array = np.array([1,2,3])\n",
    "v_array1 = np.array([\"a\"])\n",
    "print(v_array.dtype) \n",
    "print(v_array1.dtype.str) "
   ]
  },
  {
   "cell_type": "code",
   "execution_count": 21,
   "metadata": {},
   "outputs": [
    {
     "name": "stdout",
     "output_type": "stream",
     "text": [
      "(3,)\n",
      "(2, 3)\n",
      "(3, 3)\n"
     ]
    }
   ],
   "source": [
    "##shape\n",
    "import numpy as np\n",
    "v_array = np.array([1,2,3])\n",
    "print(v_array.shape)\n",
    "v_array1 = np.array([(1,2,3),(4,5,6)])\n",
    "print(v_array1.shape)\n",
    "v_array2 = np.array([(1,2,3),(4,5,6),(7,8,9)])\n",
    "print(v_array2.shape)"
   ]
  },
  {
   "cell_type": "code",
   "execution_count": 6,
   "metadata": {},
   "outputs": [
    {
     "name": "stdout",
     "output_type": "stream",
     "text": [
      "[[1 2 3]\n",
      " [4 5 6]]\n",
      "(2, 3)\n",
      "[[1 2]\n",
      " [3 4]\n",
      " [5 6]]\n",
      "(3, 2)\n"
     ]
    }
   ],
   "source": [
    "##reshape\n",
    "import numpy as np\n",
    "a= np.array([(1,2,3),(4,5,6)])\n",
    "print(a)\n",
    "print(a.shape)\n",
    "\n",
    "a = a.reshape(3,2)\n",
    "print(a)\n",
    "print(a.shape)\n",
    "\n"
   ]
  },
  {
   "cell_type": "code",
   "execution_count": 24,
   "metadata": {},
   "outputs": [
    {
     "name": "stdout",
     "output_type": "stream",
     "text": [
      "[[1 2 3]\n",
      " [4 5 6]]\n",
      "[2 5]\n",
      "5\n",
      "2nd array: \n",
      " [[1 2 3]\n",
      " [4 5 6]\n",
      " [7 8 9]]\n",
      "[3 6]\n"
     ]
    },
    {
     "ename": "TypeError",
     "evalue": "'list' object cannot be interpreted as an integer",
     "output_type": "error",
     "traceback": [
      "\u001b[1;31m---------------------------------------------------------------------------\u001b[0m",
      "\u001b[1;31mTypeError\u001b[0m                                 Traceback (most recent call last)",
      "\u001b[1;32m<ipython-input-24-c6757a1ffeee>\u001b[0m in \u001b[0;36m<module>\u001b[1;34m()\u001b[0m\n\u001b[0;32m     12\u001b[0m \u001b[0mprint\u001b[0m\u001b[1;33m(\u001b[0m\u001b[0ma\u001b[0m\u001b[1;33m[\u001b[0m\u001b[1;36m0\u001b[0m\u001b[1;33m:\u001b[0m\u001b[1;36m2\u001b[0m\u001b[1;33m,\u001b[0m\u001b[1;36m2\u001b[0m\u001b[1;33m]\u001b[0m\u001b[1;33m)\u001b[0m\u001b[1;33m\u001b[0m\u001b[0m\n\u001b[0;32m     13\u001b[0m \u001b[1;31m#print(a[1:2,1])\u001b[0m\u001b[1;33m\u001b[0m\u001b[1;33m\u001b[0m\u001b[0m\n\u001b[1;32m---> 14\u001b[1;33m \u001b[0ma\u001b[0m\u001b[1;33m=\u001b[0m\u001b[0mnp\u001b[0m\u001b[1;33m.\u001b[0m\u001b[0meye\u001b[0m\u001b[1;33m(\u001b[0m\u001b[1;33m[\u001b[0m\u001b[0ma\u001b[0m\u001b[1;33m]\u001b[0m\u001b[1;33m)\u001b[0m\u001b[1;33m\u001b[0m\u001b[0m\n\u001b[0m",
      "\u001b[1;32m~\\Anaconda3\\lib\\site-packages\\numpy\\lib\\twodim_base.py\u001b[0m in \u001b[0;36meye\u001b[1;34m(N, M, k, dtype, order)\u001b[0m\n\u001b[0;32m    184\u001b[0m     \u001b[1;32mif\u001b[0m \u001b[0mM\u001b[0m \u001b[1;32mis\u001b[0m \u001b[1;32mNone\u001b[0m\u001b[1;33m:\u001b[0m\u001b[1;33m\u001b[0m\u001b[0m\n\u001b[0;32m    185\u001b[0m         \u001b[0mM\u001b[0m \u001b[1;33m=\u001b[0m \u001b[0mN\u001b[0m\u001b[1;33m\u001b[0m\u001b[0m\n\u001b[1;32m--> 186\u001b[1;33m     \u001b[0mm\u001b[0m \u001b[1;33m=\u001b[0m \u001b[0mzeros\u001b[0m\u001b[1;33m(\u001b[0m\u001b[1;33m(\u001b[0m\u001b[0mN\u001b[0m\u001b[1;33m,\u001b[0m \u001b[0mM\u001b[0m\u001b[1;33m)\u001b[0m\u001b[1;33m,\u001b[0m \u001b[0mdtype\u001b[0m\u001b[1;33m=\u001b[0m\u001b[0mdtype\u001b[0m\u001b[1;33m,\u001b[0m \u001b[0morder\u001b[0m\u001b[1;33m=\u001b[0m\u001b[0morder\u001b[0m\u001b[1;33m)\u001b[0m\u001b[1;33m\u001b[0m\u001b[0m\n\u001b[0m\u001b[0;32m    187\u001b[0m     \u001b[1;32mif\u001b[0m \u001b[0mk\u001b[0m \u001b[1;33m>=\u001b[0m \u001b[0mM\u001b[0m\u001b[1;33m:\u001b[0m\u001b[1;33m\u001b[0m\u001b[0m\n\u001b[0;32m    188\u001b[0m         \u001b[1;32mreturn\u001b[0m \u001b[0mm\u001b[0m\u001b[1;33m\u001b[0m\u001b[0m\n",
      "\u001b[1;31mTypeError\u001b[0m: 'list' object cannot be interpreted as an integer"
     ]
    }
   ],
   "source": [
    "##Slicing\n",
    "import numpy as np\n",
    "a = np.array([(1,2,3),(4,5,6)])\n",
    "#print(a[0:])\n",
    "print(a)\n",
    "print(a[0:,1])\n",
    "print(a[1,1])\n",
    "\n",
    "a = np.array([(1,2,3),(4,5,6),(7,8,9)])\n",
    "print(\"2nd array: \\n\",a)\n",
    "#print(a[0:,2])\n",
    "print(a[0:2,2])\n",
    "#print(a[1:2,1])\n"
   ]
  },
  {
   "cell_type": "code",
   "execution_count": 8,
   "metadata": {},
   "outputs": [
    {
     "name": "stdout",
     "output_type": "stream",
     "text": [
      "1\n",
      "3\n",
      "6\n",
      "3\n"
     ]
    }
   ],
   "source": [
    "import numpy as np\n",
    "a = np.array([1,2,3])\n",
    "print(a.min())\n",
    "print(a.max())\n",
    "print(a.sum())\n",
    "print(a.size)"
   ]
  },
  {
   "cell_type": "code",
   "execution_count": 52,
   "metadata": {},
   "outputs": [
    {
     "name": "stdout",
     "output_type": "stream",
     "text": [
      "[5 7 9]\n",
      "[ 6 15]\n"
     ]
    }
   ],
   "source": [
    "##axis = column is axis 0 and row is axis 1\n",
    "import numpy as np\n",
    "a = np.array([(1,2,3),(4,5,6)])\n",
    "print(a.sum(axis=0)) #sum of columns\n",
    "print(a.sum(axis=1)) #sum of rows\n"
   ]
  },
  {
   "cell_type": "code",
   "execution_count": 66,
   "metadata": {},
   "outputs": [
    {
     "name": "stdout",
     "output_type": "stream",
     "text": [
      "[[0. 0.]\n",
      " [0. 0.]]\n",
      "[[9 9]\n",
      " [9 9]]\n",
      "[[1. 0.]\n",
      " [0. 1.]]\n",
      "[[1. 1.]\n",
      " [1. 1.]]\n",
      "[[0.73215418 0.98748088]\n",
      " [0.66978965 0.10971786]]\n"
     ]
    }
   ],
   "source": [
    "##arrays of zeros\n",
    "import numpy as np\n",
    "a = np.zeros((2,2))\n",
    "print(a)\n",
    "\n",
    "a = np.full((2,2),9) #filled with value i.e 9\n",
    "print(a)\n",
    "\n",
    "a= np.eye(2,2)  #matriz with diagonal 1 and other zero\n",
    "print(a)\n",
    "\n",
    "a=np.ones((2,2)) #with one\n",
    "print(a)\n",
    "\n",
    "a=np.random.random((2,2))\n",
    "print(a)"
   ]
  },
  {
   "cell_type": "code",
   "execution_count": 25,
   "metadata": {},
   "outputs": [
    {
     "name": "stdout",
     "output_type": "stream",
     "text": [
      "[[1 2 3]\n",
      " [4 5 6]]\n"
     ]
    }
   ],
   "source": [
    "import numpy as np\n",
    "a = np.array([[1,2,3],[4,5,6]])\n",
    "print(a)"
   ]
  },
  {
   "cell_type": "code",
   "execution_count": 26,
   "metadata": {},
   "outputs": [
    {
     "name": "stdout",
     "output_type": "stream",
     "text": [
      "[2 5]\n"
     ]
    }
   ],
   "source": [
    "import numpy as np\n",
    "a = np.array([(1,2,3),(4,5,6),(7,8,9)])\n",
    "print(a[0:2,1])"
   ]
  },
  {
   "cell_type": "code",
   "execution_count": 4,
   "metadata": {},
   "outputs": [
    {
     "name": "stderr",
     "output_type": "stream",
     "text": [
      "C:\\Users\\Madan\\Anaconda3\\lib\\site-packages\\ipykernel_launcher.py:3: RuntimeWarning: divide by zero encountered in true_divide\n",
      "  This is separate from the ipykernel package so we can avoid doing imports until\n",
      "C:\\Users\\Madan\\Anaconda3\\lib\\site-packages\\ipykernel_launcher.py:3: RuntimeWarning: invalid value encountered in true_divide\n",
      "  This is separate from the ipykernel package so we can avoid doing imports until\n"
     ]
    },
    {
     "data": {
      "text/plain": [
       "array([ inf, -inf,  nan])"
      ]
     },
     "execution_count": 4,
     "metadata": {},
     "output_type": "execute_result"
    }
   ],
   "source": [
    "import numpy as np\n",
    "a = np.array([1,-1,0])\n",
    "a2 = a/0\n",
    "a2"
   ]
  },
  {
   "cell_type": "code",
   "execution_count": 31,
   "metadata": {},
   "outputs": [
    {
     "data": {
      "text/plain": [
       "array(['lmn', 'abc', 'pqr', 'xyz'], dtype='<U3')"
      ]
     },
     "execution_count": 31,
     "metadata": {},
     "output_type": "execute_result"
    }
   ],
   "source": [
    "##insert element into numpy\n",
    "import numpy as np\n",
    "a = np.array(['abc','pqr','xyz'])\n",
    "a = np.insert(a,[0],['lmn'])\n",
    "#a[3]='lmk'\n",
    "#a[3]='lmnk' ##it will take only 3char as datatype is size like char(3)\n",
    "a"
   ]
  },
  {
   "cell_type": "code",
   "execution_count": 32,
   "metadata": {},
   "outputs": [
    {
     "data": {
      "text/plain": [
       "array(['abc', 'pqr', 'vxy'], dtype='<U3')"
      ]
     },
     "execution_count": 32,
     "metadata": {},
     "output_type": "execute_result"
    }
   ],
   "source": [
    "#just checking if any difference in curly bracket and squre bracket while initilization array\n",
    "import numpy as np\n",
    "a = np.array(('abc','pqr','xyz')) #<--\n",
    "a[2]='wxy'\n",
    "a[2]='vxyz'\n",
    "a"
   ]
  },
  {
   "cell_type": "code",
   "execution_count": 34,
   "metadata": {},
   "outputs": [
    {
     "name": "stdout",
     "output_type": "stream",
     "text": [
      "[False False False False  True  True]\n",
      "[20 25]\n"
     ]
    }
   ],
   "source": [
    "#boolean indexing\n",
    "import numpy as np\n",
    "a = np.array([10,12,13,15,20,25])\n",
    "filter = a >15\n",
    "print(filter)\n",
    "print(a[filter])\n",
    "\n"
   ]
  },
  {
   "cell_type": "code",
   "execution_count": 21,
   "metadata": {},
   "outputs": [
    {
     "name": "stdout",
     "output_type": "stream",
     "text": [
      "[False False False False  True False]\n",
      "[20]\n",
      "[20]\n"
     ]
    }
   ],
   "source": [
    "b=(a > 15) & (a < 25)\n",
    "print(b)\n",
    "print(a[b])\n",
    "\n",
    "#or\n",
    "print(a[(a > 15) & (a < 25)])"
   ]
  },
  {
   "cell_type": "markdown",
   "metadata": {},
   "source": [
    "print('actual array : ',a)\n",
    "print('& condition : ',a[(a > 12) & (a < 25)])\n",
    "\n",
    "print('array multiply: ',a[(a > 12) & (a < 25)]*100)\n",
    "print('array minus',a[(a > 12) & (a < 25)]/2)\n",
    "print('array plus',a[(a > 12) & (a < 25)]+10)\n",
    "\n"
   ]
  },
  {
   "cell_type": "code",
   "execution_count": 37,
   "metadata": {},
   "outputs": [
    {
     "data": {
      "text/plain": [
       "array([11, 12], dtype=int64)"
      ]
     },
     "execution_count": 37,
     "metadata": {},
     "output_type": "execute_result"
    }
   ],
   "source": [
    "#explicitly give datatype to array\n",
    "#1. int\n",
    "ex1= np.array([11,12],dtype=np.int64)\n",
    "ex1.dtype\n",
    "ex1"
   ]
  },
  {
   "cell_type": "code",
   "execution_count": 41,
   "metadata": {},
   "outputs": [
    {
     "data": {
      "text/plain": [
       "array([11., 12.])"
      ]
     },
     "execution_count": 41,
     "metadata": {},
     "output_type": "execute_result"
    }
   ],
   "source": [
    "#2. float\n",
    "ex2 = np.array([11,12],np.float64) ## forcefully it conver value in given datatype\n",
    "ex2"
   ]
  },
  {
   "cell_type": "markdown",
   "metadata": {},
   "source": [
    "##Arthmatic Operations"
   ]
  },
  {
   "cell_type": "code",
   "execution_count": 36,
   "metadata": {},
   "outputs": [
    {
     "name": "stdout",
     "output_type": "stream",
     "text": [
      "1. additions\n",
      "[12 14 16 18]\n",
      "[12 14 16 18]\n",
      "\n",
      "2. substartion\n",
      "[10 10 10 10]\n",
      "[10 10 10 10]\n",
      "\n",
      " 3. divide\n",
      "[11.          6.          4.33333333  3.5       ]\n",
      "[11.          6.          4.33333333  3.5       ]\n",
      "\n",
      " 4. Multiply\n",
      "[11 24 39 56]\n",
      "[11 24 39 56]\n"
     ]
    }
   ],
   "source": [
    "#arthmatic operation\n",
    "x = np.array([11,12,13,14])\n",
    "y = np.array([1,2,3,4])\n",
    "#1. additions \n",
    "print('1. additions')\n",
    "#simple addtion\n",
    "print(x+y)\n",
    "#using numpy add function\n",
    "print(np.add(x,y))\n",
    "\n",
    "#2. substartion\n",
    "print('\\n2. substartion')\n",
    "print(x-y)\n",
    "print(np.subtract(x,y))\n",
    "\n",
    "#3. divide\n",
    "print('\\n 3. divide')\n",
    "print(x/y)\n",
    "print(np.divide(x,y))\n",
    "\n",
    "#4. multiply\n",
    "print('\\n 4. Multiply')\n",
    "print (x*y)\n",
    "print(np.multiply(x,y))"
   ]
  },
  {
   "cell_type": "markdown",
   "metadata": {},
   "source": [
    "** Basic statistics operators **"
   ]
  },
  {
   "cell_type": "code",
   "execution_count": 57,
   "metadata": {},
   "outputs": [
    {
     "name": "stdout",
     "output_type": "stream",
     "text": [
      "[[-1.83884979  0.01856842 -0.1268416  -0.53312767 -1.28356114]\n",
      " [-0.11019111  1.48333461  0.47278517  0.08214447  2.8587215 ]]\n"
     ]
    }
   ],
   "source": [
    "#set up random 2*4 matrix\n",
    "arr = np.random.randn(2,5)\n",
    "print(arr)"
   ]
  },
  {
   "cell_type": "code",
   "execution_count": 61,
   "metadata": {},
   "outputs": [
    {
     "data": {
      "text/plain": [
       "0.1022982864513581"
      ]
     },
     "execution_count": 61,
     "metadata": {},
     "output_type": "execute_result"
    }
   ],
   "source": [
    "#mean value\n",
    "arr.mean()\n"
   ]
  },
  {
   "cell_type": "code",
   "execution_count": 62,
   "metadata": {},
   "outputs": [
    {
     "data": {
      "text/plain": [
       "array([-0.75276236,  0.95735893])"
      ]
     },
     "execution_count": 62,
     "metadata": {},
     "output_type": "execute_result"
    }
   ],
   "source": [
    "#mean of row\n",
    "arr.mean(axis=1)"
   ]
  },
  {
   "cell_type": "code",
   "execution_count": 63,
   "metadata": {},
   "outputs": [
    {
     "data": {
      "text/plain": [
       "array([-0.97452045,  0.75095152,  0.17297179, -0.2254916 ,  0.78758018])"
      ]
     },
     "execution_count": 63,
     "metadata": {},
     "output_type": "execute_result"
    }
   ],
   "source": [
    "#mean of column\n",
    "arr.mean(axis=0)"
   ]
  },
  {
   "cell_type": "code",
   "execution_count": 105,
   "metadata": {},
   "outputs": [
    {
     "name": "stdout",
     "output_type": "stream",
     "text": [
      "[ 0.77322614  0.88029084 -0.20046126  1.37796556  2.1292984  -1.84210657\n",
      "  0.60053425  0.30568456  0.42362131  1.49216336]\n",
      "None\n"
     ]
    }
   ],
   "source": [
    "unsorted = np.random.randn(10)\n",
    "print(unsorted)\n",
    "print(unsorted.sort())\n"
   ]
  },
  {
   "cell_type": "code",
   "execution_count": 102,
   "metadata": {},
   "outputs": [
    {
     "name": "stdout",
     "output_type": "stream",
     "text": [
      "None\n"
     ]
    }
   ],
   "source": [
    "sorted = np.array(unsorted)\n",
    "srd=sorted.sort()\n",
    "print(srd)"
   ]
  },
  {
   "cell_type": "markdown",
   "metadata": {},
   "source": [
    "**set operator with numpy**"
   ]
  },
  {
   "cell_type": "code",
   "execution_count": 110,
   "metadata": {},
   "outputs": [
    {
     "name": "stdout",
     "output_type": "stream",
     "text": [
      "['madan' 'datta' 'hiware'] ['priya' 'madan' 'hiware']\n"
     ]
    }
   ],
   "source": [
    "set1 = np.array(['madan','datta','hiware'])\n",
    "set2 = np.array(['priya','madan','hiware'])\n",
    "print(set1,set2)"
   ]
  },
  {
   "cell_type": "code",
   "execution_count": 115,
   "metadata": {},
   "outputs": [
    {
     "name": "stdout",
     "output_type": "stream",
     "text": [
      "['datta' 'hiware' 'madan' 'priya']\n",
      "['hiware' 'madan']\n",
      "['datta']\n",
      "['priya']\n"
     ]
    }
   ],
   "source": [
    "print(np.union1d(set1,set2)) #union\n",
    "print(np.intersect1d(set1,set2))  #intersect\n",
    "print(np.setdiff1d(set1,set2)) # except\n",
    "print(np.setdiff1d(set2,set1)) # except\n"
   ]
  },
  {
   "cell_type": "code",
   "execution_count": 30,
   "metadata": {},
   "outputs": [
    {
     "data": {
      "text/plain": [
       "array([[4, 1],\n",
       "       [2, 2],\n",
       "       [2, 3]])"
      ]
     },
     "execution_count": 30,
     "metadata": {},
     "output_type": "execute_result"
    }
   ],
   "source": [
    "import numpy as np\n",
    "v = np.array([(3,0),(1,1),(1,2)])\n",
    "v1 = np.array([1,1])\n",
    "v2=4\n",
    "v+v1\n"
   ]
  },
  {
   "cell_type": "markdown",
   "metadata": {},
   "source": [
    "*** image with numpy ***"
   ]
  },
  {
   "cell_type": "code",
   "execution_count": 16,
   "metadata": {},
   "outputs": [],
   "source": [
    "%matplotlib inline\n",
    "import numpy as np\n",
    "from scipy import misc\n",
    "import matplotlib.pyplot as plt"
   ]
  },
  {
   "cell_type": "code",
   "execution_count": 65,
   "metadata": {},
   "outputs": [
    {
     "name": "stderr",
     "output_type": "stream",
     "text": [
      "C:\\Users\\Madan\\Anaconda3\\lib\\site-packages\\ipykernel_launcher.py:2: DeprecationWarning: `imread` is deprecated!\n",
      "`imread` is deprecated in SciPy 1.0.0, and will be removed in 1.2.0.\n",
      "Use ``imageio.imread`` instead.\n",
      "  \n"
     ]
    },
    {
     "name": "stdout",
     "output_type": "stream",
     "text": [
      "(1600, 1200, 3)\n"
     ]
    },
    {
     "data": {
      "text/plain": [
       "(1600, 1200, 3)"
      ]
     },
     "execution_count": 65,
     "metadata": {},
     "output_type": "execute_result"
    }
   ],
   "source": [
    "from skimage import data\n",
    "photo = misc.imread('Documents/aa.jpg')\n",
    "#plt.imshow(photo)\n",
    "#photo.min(),photo.max(),photo.size\n",
    "#photo[150:600,:,]=0\n",
    "print(photo.shape)\n",
    "ph = (photo==0)\n",
    "ph.shape\n"
   ]
  },
  {
   "cell_type": "code",
   "execution_count": 68,
   "metadata": {},
   "outputs": [
    {
     "name": "stderr",
     "output_type": "stream",
     "text": [
      "C:\\Users\\Madan\\Anaconda3\\lib\\site-packages\\ipykernel_launcher.py:1: DeprecationWarning: `imread` is deprecated!\n",
      "`imread` is deprecated in SciPy 1.0.0, and will be removed in 1.2.0.\n",
      "Use ``imageio.imread`` instead.\n",
      "  \"\"\"Entry point for launching an IPython kernel.\n"
     ]
    },
    {
     "data": {
      "text/plain": [
       "<matplotlib.image.AxesImage at 0xec73dcb7b8>"
      ]
     },
     "execution_count": 68,
     "metadata": {},
     "output_type": "execute_result"
    },
    {
     "data": {
      "image/png": "[encoded data removed]",
      "text/plain": [
       "<Figure size 432x288 with 1 Axes>"
      ]
     },
     "metadata": {},
     "output_type": "display_data"
    }
   ],
   "source": [
    "photo = misc.imread('Documents/aa.jpg')\n",
    "\n",
    "ph = (photo<200)\n",
    "\n",
    "photo[ph]=0\n",
    "plt.imshow(photo)\n"
   ]
  },
  {
   "cell_type": "code",
   "execution_count": 81,
   "metadata": {},
   "outputs": [
    {
     "name": "stderr",
     "output_type": "stream",
     "text": [
      "C:\\Users\\Madan\\Anaconda3\\lib\\site-packages\\ipykernel_launcher.py:1: DeprecationWarning: `imread` is deprecated!\n",
      "`imread` is deprecated in SciPy 1.0.0, and will be removed in 1.2.0.\n",
      "Use ``imageio.imread`` instead.\n",
      "  \"\"\"Entry point for launching an IPython kernel.\n"
     ]
    },
    {
     "ename": "IndexError",
     "evalue": "shape mismatch: indexing arrays could not be broadcast together with shapes (1200,) (1600,) ",
     "output_type": "error",
     "traceback": [
      "\u001b[1;31m---------------------------------------------------------------------------\u001b[0m",
      "\u001b[1;31mIndexError\u001b[0m                                Traceback (most recent call last)",
      "\u001b[1;32m<ipython-input-81-2369b0500bb6>\u001b[0m in \u001b[0;36m<module>\u001b[1;34m()\u001b[0m\n\u001b[0;32m      3\u001b[0m \u001b[0mphoto_rw\u001b[0m\u001b[1;33m=\u001b[0m\u001b[0mnp\u001b[0m\u001b[1;33m.\u001b[0m\u001b[0marange\u001b[0m\u001b[1;33m(\u001b[0m\u001b[1;36m1600\u001b[0m\u001b[1;33m)\u001b[0m\u001b[1;33m\u001b[0m\u001b[0m\n\u001b[0;32m      4\u001b[0m \u001b[0mphoto_col\u001b[0m \u001b[1;33m=\u001b[0m \u001b[0mnp\u001b[0m\u001b[1;33m.\u001b[0m\u001b[0marange\u001b[0m\u001b[1;33m(\u001b[0m\u001b[1;36m1200\u001b[0m\u001b[1;33m)\u001b[0m\u001b[1;33m\u001b[0m\u001b[0m\n\u001b[1;32m----> 5\u001b[1;33m \u001b[0mphoto\u001b[0m\u001b[1;33m[\u001b[0m\u001b[0mphoto_col\u001b[0m\u001b[1;33m,\u001b[0m\u001b[0mphoto_rw\u001b[0m\u001b[1;33m]\u001b[0m\u001b[1;33m=\u001b[0m\u001b[1;36m255\u001b[0m\u001b[1;33m\u001b[0m\u001b[0m\n\u001b[0m\u001b[0;32m      6\u001b[0m \u001b[1;31m#plt.imshow(photo)\u001b[0m\u001b[1;33m\u001b[0m\u001b[1;33m\u001b[0m\u001b[0m\n",
      "\u001b[1;31mIndexError\u001b[0m: shape mismatch: indexing arrays could not be broadcast together with shapes (1200,) (1600,) "
     ]
    }
   ],
   "source": [
    "photo = misc.imread('Documents/aa.jpg')\n",
    "\n",
    "photo_rw=np.arange(1600)\n",
    "photo_col = np.arange(1200)\n",
    "photo[photo_col,photo_rw]=255\n",
    "#plt.imshow(photo)\n"
   ]
  },
  {
   "cell_type": "code",
   "execution_count": 109,
   "metadata": {},
   "outputs": [
    {
     "data": {
      "text/plain": [
       "array([[10, 15, 18],\n",
       "       [10, 15, 18],\n",
       "       [10, 15, 18]], dtype=int8)"
      ]
     },
     "execution_count": 109,
     "metadata": {},
     "output_type": "execute_result"
    }
   ],
   "source": [
    "test = np.array([(10,25,30),(48,15,50),(22,65,18)],dtype=\"int8\")\n",
    "test2 = np.zeros(test.shape)\n",
    "test2\n",
    "test1= test<20\n",
    "test2= np.array(test2+test[test1],dtype='int8')\n",
    "test2"
   ]
  },
  {
   "cell_type": "code",
   "execution_count": 117,
   "metadata": {},
   "outputs": [
    {
     "data": {
      "text/plain": [
       "(3, 3)"
      ]
     },
     "execution_count": 117,
     "metadata": {},
     "output_type": "execute_result"
    }
   ],
   "source": [
    "test1.shape"
   ]
  },
  {
   "cell_type": "code",
   "execution_count": null,
   "metadata": {},
   "outputs": [],
   "source": []
  }
 ],
 "metadata": {
  "kernelspec": {
   "display_name": "Python 3",
   "language": "python",
   "name": "python3"
  },
  "language_info": {
   "codemirror_mode": {
    "name": "ipython",
    "version": 3
   },
   "file_extension": ".py",
   "mimetype": "text/x-python",
   "name": "python",
   "nbconvert_exporter": "python",
   "pygments_lexer": "ipython3",
   "version": "3.6.6"
  }
 },
 "nbformat": 4,
 "nbformat_minor": 2
}
